{
  "nbformat": 4,
  "nbformat_minor": 0,
  "metadata": {
    "colab": {
      "provenance": [],
      "authorship_tag": "ABX9TyPB046wiqVNgb53bhDJ/lS6"
    },
    "kernelspec": {
      "name": "python3",
      "display_name": "Python 3"
    },
    "language_info": {
      "name": "python"
    }
  },
  "cells": [
    {
      "cell_type": "code",
      "execution_count": null,
      "metadata": {
        "colab": {
          "base_uri": "https://localhost:8080/"
        },
        "id": "iOh_fXPUHw4E",
        "outputId": "cc567320-fea7-4771-ac5f-ba26f4b5f89e"
      },
      "outputs": [
        {
          "output_type": "stream",
          "name": "stdout",
          "text": [
            "Mounted at /content/drive\n"
          ]
        }
      ],
      "source": [
        "import pandas as pd\n",
        "\n",
        "from google.colab import drive\n",
        "drive.mount('/content/drive')"
      ]
    },
    {
      "cell_type": "code",
      "source": [
        "# load in icd files\n",
        "## files were obtained from: https://www.cdc.gov/nchs/icd/icd-10-cm/files.html\n",
        "icd10_2015 = pd.read_csv('/content/drive/MyDrive/Data/icd10/icd10-2015.csv')\n",
        "icd10_2016 = pd.read_csv('/content/drive/MyDrive/Data/icd10/icd10-2016.csv')\n",
        "icd10_2017 = pd.read_csv('/content/drive/MyDrive/Data/icd10/icd10-2017.csv')\n",
        "icd10_2018 = pd.read_csv('/content/drive/MyDrive/Data/icd10/icd10-2018.csv')\n",
        "icd10_2019 = pd.read_csv('/content/drive/MyDrive/Data/icd10/icd10-2019.csv')\n",
        "icd10_2020 = pd.read_csv('/content/drive/MyDrive/Data/icd10/icd10-2020.csv')\n",
        "icd10_2021 = pd.read_csv('/content/drive/MyDrive/Data/icd10/icd10-2021.csv')\n",
        "icd10_2022 = pd.read_csv('/content/drive/MyDrive/Data/icd10/icd10-2022.csv')\n",
        "icd10_2023 = pd.read_csv('/content/drive/MyDrive/Data/icd10/icd10-2023.csv')\n",
        "icd10_2024 = pd.read_csv('/content/drive/MyDrive/Data/icd10/icd10-2024.csv')\n",
        "icd10_2025 = pd.read_csv('/content/drive/MyDrive/Data/icd10/icd10-2025.csv')"
      ],
      "metadata": {
        "id": "14GgtRfUIGpb"
      },
      "execution_count": null,
      "outputs": []
    },
    {
      "cell_type": "code",
      "source": [
        "icd10_joined = pd.concat([icd10_2025, icd10_2024, icd10_2023, icd10_2022, icd10_2021, icd10_2020,\n",
        "                          icd10_2019, icd10_2018, icd10_2017, icd10_2016, icd10_2015])"
      ],
      "metadata": {
        "id": "Um8i_7AjKv33"
      },
      "execution_count": null,
      "outputs": []
    },
    {
      "cell_type": "code",
      "source": [
        "# prompt: drop all duplicates from icd10_joined according to the variable \"Code\"\n",
        "\n",
        "icd10_joined = icd10_joined.drop_duplicates(subset=['Code'])"
      ],
      "metadata": {
        "id": "W30rtc4BMfkj"
      },
      "execution_count": null,
      "outputs": []
    },
    {
      "cell_type": "code",
      "source": [
        "icd10_joined.to_csv('/content/drive/MyDrive/Data/icd10/ICD10Diagnosis.csv', index=False)"
      ],
      "metadata": {
        "id": "bNXn_guPN82o"
      },
      "execution_count": null,
      "outputs": []
    }
  ]
}