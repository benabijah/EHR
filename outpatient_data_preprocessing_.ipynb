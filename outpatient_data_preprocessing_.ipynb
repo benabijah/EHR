{
  "nbformat": 4,
  "nbformat_minor": 0,
  "metadata": {
    "colab": {
      "provenance": [],
      "authorship_tag": "ABX9TyOjSD07GaViLG5ejndgAWwF"
    },
    "kernelspec": {
      "name": "python3",
      "display_name": "Python 3"
    },
    "language_info": {
      "name": "python"
    }
  },
  "cells": [
    {
      "cell_type": "code",
      "execution_count": null,
      "metadata": {
        "colab": {
          "base_uri": "https://localhost:8080/"
        },
        "id": "H8tYyH49x78V",
        "outputId": "5f83e842-788f-4db3-9432-4434491730b4"
      },
      "outputs": [
        {
          "output_type": "stream",
          "name": "stdout",
          "text": [
            "Mounted at /content/drive\n"
          ]
        }
      ],
      "source": [
        "import pandas as pd\n",
        "import numpy as np\n",
        "from datetime import datetime\n",
        "pd.set_option('display.max_columns', None)\n",
        "from google.colab import drive\n",
        "drive.mount('/content/drive')"
      ]
    },
    {
      "cell_type": "code",
      "source": [
        "# LU look up file for health codes\n",
        "LU_ICD = pd.read_csv('/content/drive/MyDrive/Data/icd10/ICD10Diagnosis.csv')\n",
        "LU_ICD.rename(columns={'Code': 'ICD_DIAG_CD', 'Description': 'ICD_Description'}, inplace=True)\n",
        "\n",
        "outpatient = pd.read_csv('/content/drive/MyDrive/Data/Input/outpatient.csv', sep='|')\n",
        "col_outpatient = pd.DataFrame(outpatient.dtypes, columns=['type'])\n",
        "#col_outpatient"
      ],
      "metadata": {
        "id": "JwbuQgFSRenA"
      },
      "execution_count": null,
      "outputs": []
    },
    {
      "cell_type": "code",
      "source": [
        "# convert columns to appropriate data types\n",
        "outpatient['BENE_ID'] = outpatient['BENE_ID'].astype(str)\n",
        "outpatient['CLM_ID'] = outpatient['CLM_ID'].astype(str)\n",
        "outpatient['PTNT_DSCHRG_STUS_CD'] = outpatient['PTNT_DSCHRG_STUS_CD'].astype(str)\n",
        "\n",
        "# dates columns\n",
        "outpatient['CLM_FROM_DT'] = pd.to_datetime(outpatient['CLM_FROM_DT'], format='%d-%b-%Y')\n",
        "outpatient['CLM_THRU_DT'] = pd.to_datetime(outpatient['CLM_THRU_DT'], format='%d-%b-%Y')\n",
        "outpatient['YR'] = outpatient['CLM_THRU_DT'].dt.year\n",
        "\n",
        "# drop and select columns\n",
        "columns_to_drop = [col for col in outpatient.columns if col.endswith('UPIN') or col.startswith('ICD_DGNS_E_CD') or col.startswith('PRCDR_DT')]\n",
        "outpatient = outpatient.drop(columns=columns_to_drop)"
      ],
      "metadata": {
        "id": "jzuty3TFUKPd"
      },
      "execution_count": null,
      "outputs": []
    },
    {
      "cell_type": "code",
      "source": [
        "#rev_center (revenue center) of 450 means ER. So no ER claims exist in this data (but expect lots of 450s in the inpatient file)\n",
        "##rev_center of 780 and 789 ralates with telemedicine, so we can ignore...\n",
        "outpatient['REV_CNTR'].value_counts()\n",
        "outpatient = outpatient[outpatient['CLM_LINE_NUM'] == 1]"
      ],
      "metadata": {
        "id": "MRC-dDIjpPun"
      },
      "execution_count": null,
      "outputs": []
    },
    {
      "cell_type": "code",
      "source": [
        "#compute LOS (ND: usually 1 for all outpatient data, but could be more than 1 day for patients under observation/recovery)\n",
        "outpatient['LOS'] = (outpatient['CLM_THRU_DT'] - outpatient['CLM_FROM_DT']).dt.days + 1\n",
        "outpatient['LOS'].value_counts()"
      ],
      "metadata": {
        "colab": {
          "base_uri": "https://localhost:8080/",
          "height": 304
        },
        "id": "H1hbq9n6svhA",
        "outputId": "8680cbf8-1e13-4287-ff97-acbec58246d3"
      },
      "execution_count": null,
      "outputs": [
        {
          "output_type": "execute_result",
          "data": {
            "text/plain": [
              "LOS\n",
              "1     371460\n",
              "2      31087\n",
              "3         81\n",
              "8         22\n",
              "4          2\n",
              "48         1\n",
              "Name: count, dtype: int64"
            ],
            "text/html": [
              "<div>\n",
              "<style scoped>\n",
              "    .dataframe tbody tr th:only-of-type {\n",
              "        vertical-align: middle;\n",
              "    }\n",
              "\n",
              "    .dataframe tbody tr th {\n",
              "        vertical-align: top;\n",
              "    }\n",
              "\n",
              "    .dataframe thead th {\n",
              "        text-align: right;\n",
              "    }\n",
              "</style>\n",
              "<table border=\"1\" class=\"dataframe\">\n",
              "  <thead>\n",
              "    <tr style=\"text-align: right;\">\n",
              "      <th></th>\n",
              "      <th>count</th>\n",
              "    </tr>\n",
              "    <tr>\n",
              "      <th>LOS</th>\n",
              "      <th></th>\n",
              "    </tr>\n",
              "  </thead>\n",
              "  <tbody>\n",
              "    <tr>\n",
              "      <th>1</th>\n",
              "      <td>371460</td>\n",
              "    </tr>\n",
              "    <tr>\n",
              "      <th>2</th>\n",
              "      <td>31087</td>\n",
              "    </tr>\n",
              "    <tr>\n",
              "      <th>3</th>\n",
              "      <td>81</td>\n",
              "    </tr>\n",
              "    <tr>\n",
              "      <th>8</th>\n",
              "      <td>22</td>\n",
              "    </tr>\n",
              "    <tr>\n",
              "      <th>4</th>\n",
              "      <td>2</td>\n",
              "    </tr>\n",
              "    <tr>\n",
              "      <th>48</th>\n",
              "      <td>1</td>\n",
              "    </tr>\n",
              "  </tbody>\n",
              "</table>\n",
              "</div><br><label><b>dtype:</b> int64</label>"
            ]
          },
          "metadata": {},
          "execution_count": 9
        }
      ]
    },
    {
      "cell_type": "code",
      "source": [
        "diagnosis = outpatient[['BENE_ID', 'YR', 'PRNCPAL_DGNS_CD'] + [col for col in outpatient.columns if col.startswith('ICD_DGNS_CD')]]\n",
        "\n",
        "# wide to long format data, and remove rows where ICD_DIAG_CD is not populated\n",
        "diagnosis = pd.melt(diagnosis, id_vars=['BENE_ID', 'YR'], var_name='ICD_DIAG_COL', value_name='ICD_DIAG_CD')\n",
        "diagnosis = diagnosis[diagnosis['ICD_DIAG_CD'].notna() & (diagnosis['ICD_DIAG_CD'] != '')]\n",
        "\n",
        "# drop the 'ICD_DIAG_COL', then remove duplicates\n",
        "diagnosis = diagnosis.drop(columns=['ICD_DIAG_COL'])\n",
        "diagnosis = diagnosis.drop_duplicates()\n",
        "\n",
        "#  merge with ICD data\n",
        "diagnosis = pd.merge(diagnosis, LU_ICD, on='ICD_DIAG_CD', how='left')\n",
        "num_diagnosis = diagnosis.groupby(['BENE_ID', 'YR']).size().reset_index(name='NUM_DIAG')\n",
        "#num_diagnosis"
      ],
      "metadata": {
        "id": "M6DfxWXfvFtb"
      },
      "execution_count": null,
      "outputs": []
    },
    {
      "cell_type": "code",
      "source": [
        "outpatient_encounters = outpatient[['BENE_ID', 'CLM_ID', 'CLM_FROM_DT', 'CLM_THRU_DT', 'YR', #'LOS',\n",
        "                                  'PRNCPAL_DGNS_CD', 'PTNT_DSCHRG_STUS_CD', 'CLM_TOT_CHRG_AMT']]\n",
        "\n",
        "# perform left joins\n",
        "outpatient_encounters = outpatient_encounters.merge(num_diagnosis, on=['BENE_ID', 'YR'], how='left')\n",
        "outpatient_encounters = outpatient_encounters.merge(LU_ICD, left_on='PRNCPAL_DGNS_CD', right_on='ICD_DIAG_CD',\n",
        "                                                  how='left').drop(columns=['ICD_DIAG_CD'])"
      ],
      "metadata": {
        "id": "ImMWKnN-w0HD"
      },
      "execution_count": null,
      "outputs": []
    },
    {
      "cell_type": "code",
      "source": [
        "outpatient_encounters.to_csv('/content/drive/MyDrive/Data/Output/outpatient_encounters.csv', index=False)\n",
        "diagnosis.to_csv('/content/drive/MyDrive/Data/Output/outpatient_diagnosis.csv', index=False)"
      ],
      "metadata": {
        "id": "cgJoBjNRxhyQ"
      },
      "execution_count": null,
      "outputs": []
    }
  ]
}